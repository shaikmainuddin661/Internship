{
 "cells": [
  {
   "cell_type": "code",
   "execution_count": 13,
   "id": "33a9c5a6",
   "metadata": {},
   "outputs": [],
   "source": [
    "import regex as re\n",
    "import pandas as pd"
   ]
  },
  {
   "cell_type": "markdown",
   "id": "ebef0fe1",
   "metadata": {},
   "source": [
    "# Regular Expressions Assignment"
   ]
  },
  {
   "cell_type": "markdown",
   "id": "06f9f185",
   "metadata": {},
   "source": [
    "Question 1- Write a Python program to replace all occurrences of a space, comma, or dot with a colon\n",
    "Expected Output: Python:Exercises::PHP:exercises:"
   ]
  },
  {
   "cell_type": "code",
   "execution_count": 77,
   "id": "ee207468",
   "metadata": {},
   "outputs": [
    {
     "name": "stdout",
     "output_type": "stream",
     "text": [
      "Python:Exercises::PHP:exercises:\n"
     ]
    }
   ],
   "source": [
    "Sample_Text= 'Python Exercises, PHP exercises.'\n",
    "def remove_space_comma_dot_withColon(string):\n",
    "    Result=re.sub('[ ,.]',':',string)\n",
    "    return Result\n",
    "\n",
    "output=remove_space_comma_dot_withColon(Sample_Text)\n",
    "print(output)"
   ]
  },
  {
   "cell_type": "markdown",
   "id": "b8729450",
   "metadata": {},
   "source": [
    "Explanation-->i have created remove_space_comma_dot_withColon() function to reuse my code and used re.sub() fuction for replacing space, comma, or dot with a colon."
   ]
  },
  {
   "cell_type": "markdown",
   "id": "0ac639e2",
   "metadata": {},
   "source": [
    "Question 2-  Create a dataframe using the dictionary below and remove everything (commas (,), !, XXXX, ;, etc.) from the columns except words.\n",
    "Dictionary- {'SUMMARY' : ['hello, world!', 'XXXXX test', '123four, five:; six...']}\n",
    "Expected output-\n",
    "0      hello world\n",
    "1             test\n",
    "2    four five six\n"
   ]
  },
  {
   "cell_type": "code",
   "execution_count": 79,
   "id": "94c6e4db",
   "metadata": {},
   "outputs": [
    {
     "name": "stdout",
     "output_type": "stream",
     "text": [
      "0      hello world\n",
      "1             test\n",
      "2    four five six\n",
      "Name: SUMMARY, dtype: object\n"
     ]
    }
   ],
   "source": [
    "Dictionary= {'SUMMARY' : ['hello, world!', 'XXXXX test', '123four, five:; six...']}\n",
    "def remove_everything_exceptwords(dic):\n",
    "    df=pd.DataFrame(dic)\n",
    "    Result=df['SUMMARY'] = df['SUMMARY'].str.replace('[^a-z\\s]','',  regex=True)\n",
    "    return Result\n",
    "output=remove_everything_exceptwords(Dictionary)    \n",
    "print(output)\n",
    "\n",
    "\n"
   ]
  },
  {
   "cell_type": "markdown",
   "id": "7913855d",
   "metadata": {},
   "source": [
    "Explanation-->i have created remove_everything_exceptwords() function to reuse my code.in the above solution i have used str.replace function and replaced all the characters in the data frame  By replacing it with \n",
    "an empty string,except the lower case charcters and space characters\n",
    "regular expression '[^a-z\\s]' means, matchs any character that is not a lower case letter and white space"
   ]
  },
  {
   "cell_type": "markdown",
   "id": "f0c28c5d",
   "metadata": {},
   "source": [
    "Question 3- Create a function in python to find all words that are at least 4 characters long in a string. \n",
    "The use of the re.compile() method is mandatory."
   ]
  },
  {
   "cell_type": "code",
   "execution_count": 16,
   "id": "dbe79caa",
   "metadata": {},
   "outputs": [
    {
     "name": "stdout",
     "output_type": "stream",
     "text": [
      "['name', 'data', 'main', 'data']\n"
     ]
    }
   ],
   "source": [
    "text='my name is shaik mainuddin ,iam learing data science regex functions,my main aim is to became data scientist'\n",
    "def words_4char_long(string):\n",
    "    pattern=r'\\b\\w[a-zA-Z]{3}\\b'\n",
    "    pattern_4chars= re.compile(pattern)\n",
    "    Result=pattern_4chars.findall(string)\n",
    "    return Result\n",
    "\n",
    "output=words_4char_long(text)\n",
    "print(output)\n"
   ]
  },
  {
   "cell_type": "markdown",
   "id": "ac22f275",
   "metadata": {},
   "source": [
    "Explanation-->i have created words_4char_long() function to reuse my code i have used re.compile function to re use my pattern and \n",
    "i have used r'\\b\\w{4}+\\b' this pattern where r is raw string literal ,\\b: This is a word boundary anchor. \n",
    "It matches the position where a word starts or ends and \\w[a-zA-Z]{3} to find all the words of at least four characters"
   ]
  },
  {
   "cell_type": "markdown",
   "id": "43466258",
   "metadata": {},
   "source": [
    "Question 4- Create a function in python to find all three, four, and five character words in a string.\n",
    "The use of the re.compile() method is mandatory"
   ]
  },
  {
   "cell_type": "code",
   "execution_count": 17,
   "id": "76be02f0",
   "metadata": {},
   "outputs": [
    {
     "name": "stdout",
     "output_type": "stream",
     "text": [
      "['name', 'shaik', 'iam', 'data', 'regex', 'main', 'aim', 'became', 'data']\n"
     ]
    }
   ],
   "source": [
    "text='my name is shaik mainuddin ,iam learing data science regex functions,my main aim is to became data scientist'\n",
    "def three_four_five_char(string):\n",
    "    pattern=r'\\b\\w[a-zA-Z]{2,5}\\b'\n",
    "    pattern_345chars= re.compile(pattern)\n",
    "    Result=pattern_345chars.findall(string)\n",
    "    return Result\n",
    "output=three_four_five_char(text)  \n",
    "print(output)"
   ]
  },
  {
   "cell_type": "markdown",
   "id": "14790c69",
   "metadata": {},
   "source": [
    "Explanation-->i have created three_four_five_char() function to reuse my code,in the above solution i have used re.compile function to re use my pattern and \n",
    "i have used r'\\b\\w{4}+\\b' this pattern where r is raw string literal ,\\b: This is a word boundary anchor. \n",
    "It matches the position where a word starts or ends and w[a-zA-Z]{2,5} to find all the range of  characters starting from 3,4 and 5 \n",
    "character words in a string"
   ]
  },
  {
   "cell_type": "markdown",
   "id": "eeb21a99",
   "metadata": {},
   "source": [
    "Question 5- Create a function in Python to remove the parenthesis in a list of strings. The use of the re.compile() method is mandatory.\n",
    "Sample Text: [\"example (.com)\", \"hr@fliprobo (.com)\", \"github (.com)\", \"Hello (Data Science World)\", \"Data (Scientist)\"]\n",
    "Expected Output:\n",
    "example.com\n",
    "hr@fliprobo.com\n",
    "github.com\n",
    "Hello Data Science World\n"
   ]
  },
  {
   "cell_type": "code",
   "execution_count": 24,
   "id": "de8d03bf",
   "metadata": {},
   "outputs": [
    {
     "name": "stdout",
     "output_type": "stream",
     "text": [
      "example .com\n",
      "hrfliprobo .com\n",
      "github .com\n",
      "Hello Data Science World\n",
      "Data Scientist\n"
     ]
    }
   ],
   "source": [
    "def remove_parentheses(strings):\n",
    "    pattern = re.compile( r'[^a-zA-Z0-9\\s/.]')\n",
    "    def remove_parenthesis(text):\n",
    "        return re.sub(pattern, '', text)\n",
    "    result = [remove_parenthesis(string) for string in strings]\n",
    "    return result\n",
    "sample_text = [\"example (.com)\", \"hr@fliprobo (.com)\", \"github (.com)\", \"Hello (Data Science World)\", \"Data (Scientist)\"]\n",
    "output = remove_parentheses(sample_text)\n",
    "for res in output:\n",
    "    print(res) "
   ]
  },
  {
   "cell_type": "markdown",
   "id": "4a8907bd",
   "metadata": {},
   "source": [
    "Explanation-->i have created remove_parentheses() function to reuse my code,in the above solution i have used re.compile function to re use my pattern and \n",
    "i have used r'[^a-zA-Z0-9\\s/.]'  this pattern where r is raw string literal , [^a-zA-Z0-9\\s/.]'\n",
    "means matches any character in the list except lower case and upper letter characters,white spaces and digits and \n",
    "used re.sub()method to replacing it with an empty string which eliminates the paranthesis and gives expected output\n",
    "for loop then iterates over the matches, and the print statement displays each match.  "
   ]
  },
  {
   "cell_type": "markdown",
   "id": "1ea936d7",
   "metadata": {},
   "source": [
    "Question 6- Write a python program to remove the parenthesis area from the text stored in the text file using Regular Expression.\n",
    "Sample Text: [\"example (.com)\", \"hr@fliprobo (.com)\", \"github (.com)\", \"Hello (Data Science World)\", \"Data (Scientist)\"]\n",
    "Expected Output: [\"example\", \"hr@fliprobo\", \"github\", \"Hello\", \"Data\"]\n",
    "Note- Store given sample text in the text file and then to remove the parenthesis area from the text.\n"
   ]
  },
  {
   "cell_type": "code",
   "execution_count": 19,
   "id": "32397bf9",
   "metadata": {},
   "outputs": [
    {
     "name": "stdout",
     "output_type": "stream",
     "text": [
      "[\"example\", \"hr@fliprobo\", \"github\", \"Hello\", \"Data\"]\n"
     ]
    }
   ],
   "source": [
    "with open('sample.txt')as file:\n",
    "    for line in file:\n",
    "        Result=re.sub((r'\\([^)]*\\)'),'',line)\n",
    "        print(Result)"
   ]
  },
  {
   "cell_type": "markdown",
   "id": "983675ed",
   "metadata": {},
   "source": [
    "Explanation-->i have used (r'\\([^)]*\\)')  this pattern where r is raw string literal ,and \\( matches the open paranthesis and \n",
    "[^)]* matches any character except the closing paranthesis 0 or more occurences,and \\) matches a closing paranthesisn and\n",
    "used re.sub()method to replacing it with an empty string which eliminates the paranthesis and content in it and  gives expected output\n",
    "for loop then iterates over the matches, and the print statement displays each match. "
   ]
  },
  {
   "cell_type": "markdown",
   "id": "7eb5da0e",
   "metadata": {},
   "source": [
    "Question 7- Write a regular expression in Python to split a string into uppercase letters.\n",
    "Sample text: “ImportanceOfRegularExpressionsInPython”\n",
    "Expected Output: [‘Importance’, ‘Of’, ‘Regular’, ‘Expression’, ‘In’, ‘Python’]\n"
   ]
  },
  {
   "cell_type": "code",
   "execution_count": 25,
   "id": "04fa326d",
   "metadata": {},
   "outputs": [
    {
     "name": "stdout",
     "output_type": "stream",
     "text": [
      "['Importance', 'Of', 'Regular', 'Expressions', 'In', 'Python']\n"
     ]
    }
   ],
   "source": [
    "Sample_text='ImportanceOfRegularExpressionsInPython'\n",
    "def Split_uppercase(string):\n",
    "    pattern=r'[A-Z][a-z]*'\n",
    "    Split_Upper=re.compile(pattern)\n",
    "    Result=Split_Upper.findall(string)\n",
    "    return Result\n",
    "    \n",
    "\n",
    "output=Split_uppercase(Sample_text)\n",
    "print(output)\n",
    "\n",
    "\n"
   ]
  },
  {
   "cell_type": "markdown",
   "id": "593158f9",
   "metadata": {},
   "source": [
    "Explanation-->i have created Split_uppercase() function to reuse my code.in the above solution i have used re.compile function to re use my pattern and \n",
    "used r'[A-Z][a-z]*' pattern where [A-Z] helps to match upper case character and [a-z]* helps to find lower case characters in 0\n",
    "or more occurences and findall function is used to find all occurences of this pattern in the given string"
   ]
  },
  {
   "cell_type": "markdown",
   "id": "ce9e9ba4",
   "metadata": {},
   "source": [
    "Question 8- Create a function in python to insert spaces between words starting with numbers.\n",
    "Sample Text: “RegularExpression1IsAn2ImportantTopic3InPython\"\n",
    "Expected Output: RegularExpression 1IsAn 2ImportantTopic 3InPython\n"
   ]
  },
  {
   "cell_type": "code",
   "execution_count": 26,
   "id": "9a5cccde",
   "metadata": {},
   "outputs": [
    {
     "name": "stdout",
     "output_type": "stream",
     "text": [
      "RegularExpression1 IsAn2 ImportantTopic3 InPython\n"
     ]
    }
   ],
   "source": [
    "sample_text = \"RegularExpression1IsAn2ImportantTopic3InPython\"\n",
    "def spaces_words_startNum(string):\n",
    "    pattern = r'(\\d+)([A-Za-z]+)'\n",
    "    insert_spaces=re.compile(pattern)\n",
    "    Result = insert_spaces.sub( r'\\1 \\2', string)\n",
    "    return Result\n",
    "\n",
    "\n",
    "output=spaces_words_startNum(sample_text)\n",
    "print(output)\n",
    "\n"
   ]
  },
  {
   "cell_type": "markdown",
   "id": "bfaf7260",
   "metadata": {},
   "source": [
    "Explanation-->i have created spaces_words_startNum() function to reuse my code.in the above solution i have used re.compile function to re use my pattern and \n",
    "used 'r(\\d+)([A-za-z]+)' pattern where (d+)in group1 helps to match one or more digits and +Matches 1 or more occurrences of the preceding character or group\n",
    "([A-za-z]+) helps to match one or more alphabetical characters and\n",
    "re.sub pattern helps to substitute the matched pattern with a space between group 1 and group 2 which helps in to insert spaces between words starting with numbers."
   ]
  },
  {
   "cell_type": "markdown",
   "id": "e8315a02",
   "metadata": {},
   "source": [
    "Question 9- Create a function in python to insert spaces between words starting with capital letters or with numbers.\n",
    "Sample Text: “RegularExpression1IsAn2ImportantTopic3InPython\"\n",
    "Expected Output:  RegularExpression 1 IsAn 2 ImportantTopic 3 InPython\n"
   ]
  },
  {
   "cell_type": "code",
   "execution_count": 27,
   "id": "f6f8332e",
   "metadata": {
    "scrolled": false
   },
   "outputs": [
    {
     "name": "stdout",
     "output_type": "stream",
     "text": [
      " Regular Expression1 Is An2 Important Topic3 In Python\n"
     ]
    }
   ],
   "source": [
    "sample_text =\"RegularExpression1IsAn2ImportantTopic3InPython\"\n",
    "def space_words_capital_letters(string):\n",
    "    pattern = r'([A-Z][a-z0-9]+|\\d+)'\n",
    "    insert_spaces=re.compile(pattern)\n",
    "    Result = insert_spaces.sub( r' \\1', sample_text)\n",
    "    return Result\n",
    "    \n",
    "output=space_words_capital_letters(sample_text)\n",
    "print(output)"
   ]
  },
  {
   "cell_type": "markdown",
   "id": "9155ae2c",
   "metadata": {},
   "source": [
    "Explanation-->i created used space_words_capital_letters() function to reuse my code.in the above solution The regular expression pattern ([A-Z][a-z0-9]+|\\d+) matches words that start with a capital letter ([A-Z][a-z0-9]+) or numbers (\\d+).\n",
    "The re.sub() function replaces the matched words with a space followed by the word (r' \\1')."
   ]
  },
  {
   "cell_type": "code",
   "execution_count": 23,
   "id": "9a3dac31",
   "metadata": {
    "scrolled": false
   },
   "outputs": [
    {
     "ename": "URLError",
     "evalue": "<urlopen error [WinError 10060] A connection attempt failed because the connected party did not properly respond after a period of time, or established connection failed because connected host has failed to respond>",
     "output_type": "error",
     "traceback": [
      "\u001b[1;31m---------------------------------------------------------------------------\u001b[0m",
      "\u001b[1;31mTimeoutError\u001b[0m                              Traceback (most recent call last)",
      "File \u001b[1;32m~\\anaconda3\\Lib\\urllib\\request.py:1348\u001b[0m, in \u001b[0;36mAbstractHTTPHandler.do_open\u001b[1;34m(self, http_class, req, **http_conn_args)\u001b[0m\n\u001b[0;32m   1347\u001b[0m \u001b[38;5;28;01mtry\u001b[39;00m:\n\u001b[1;32m-> 1348\u001b[0m     h\u001b[38;5;241m.\u001b[39mrequest(req\u001b[38;5;241m.\u001b[39mget_method(), req\u001b[38;5;241m.\u001b[39mselector, req\u001b[38;5;241m.\u001b[39mdata, headers,\n\u001b[0;32m   1349\u001b[0m               encode_chunked\u001b[38;5;241m=\u001b[39mreq\u001b[38;5;241m.\u001b[39mhas_header(\u001b[38;5;124m'\u001b[39m\u001b[38;5;124mTransfer-encoding\u001b[39m\u001b[38;5;124m'\u001b[39m))\n\u001b[0;32m   1350\u001b[0m \u001b[38;5;28;01mexcept\u001b[39;00m \u001b[38;5;167;01mOSError\u001b[39;00m \u001b[38;5;28;01mas\u001b[39;00m err: \u001b[38;5;66;03m# timeout error\u001b[39;00m\n",
      "File \u001b[1;32m~\\anaconda3\\Lib\\http\\client.py:1286\u001b[0m, in \u001b[0;36mHTTPConnection.request\u001b[1;34m(self, method, url, body, headers, encode_chunked)\u001b[0m\n\u001b[0;32m   1285\u001b[0m \u001b[38;5;250m\u001b[39m\u001b[38;5;124;03m\"\"\"Send a complete request to the server.\"\"\"\u001b[39;00m\n\u001b[1;32m-> 1286\u001b[0m \u001b[38;5;28mself\u001b[39m\u001b[38;5;241m.\u001b[39m_send_request(method, url, body, headers, encode_chunked)\n",
      "File \u001b[1;32m~\\anaconda3\\Lib\\http\\client.py:1332\u001b[0m, in \u001b[0;36mHTTPConnection._send_request\u001b[1;34m(self, method, url, body, headers, encode_chunked)\u001b[0m\n\u001b[0;32m   1331\u001b[0m     body \u001b[38;5;241m=\u001b[39m _encode(body, \u001b[38;5;124m'\u001b[39m\u001b[38;5;124mbody\u001b[39m\u001b[38;5;124m'\u001b[39m)\n\u001b[1;32m-> 1332\u001b[0m \u001b[38;5;28mself\u001b[39m\u001b[38;5;241m.\u001b[39mendheaders(body, encode_chunked\u001b[38;5;241m=\u001b[39mencode_chunked)\n",
      "File \u001b[1;32m~\\anaconda3\\Lib\\http\\client.py:1281\u001b[0m, in \u001b[0;36mHTTPConnection.endheaders\u001b[1;34m(self, message_body, encode_chunked)\u001b[0m\n\u001b[0;32m   1280\u001b[0m     \u001b[38;5;28;01mraise\u001b[39;00m CannotSendHeader()\n\u001b[1;32m-> 1281\u001b[0m \u001b[38;5;28mself\u001b[39m\u001b[38;5;241m.\u001b[39m_send_output(message_body, encode_chunked\u001b[38;5;241m=\u001b[39mencode_chunked)\n",
      "File \u001b[1;32m~\\anaconda3\\Lib\\http\\client.py:1041\u001b[0m, in \u001b[0;36mHTTPConnection._send_output\u001b[1;34m(self, message_body, encode_chunked)\u001b[0m\n\u001b[0;32m   1040\u001b[0m \u001b[38;5;28;01mdel\u001b[39;00m \u001b[38;5;28mself\u001b[39m\u001b[38;5;241m.\u001b[39m_buffer[:]\n\u001b[1;32m-> 1041\u001b[0m \u001b[38;5;28mself\u001b[39m\u001b[38;5;241m.\u001b[39msend(msg)\n\u001b[0;32m   1043\u001b[0m \u001b[38;5;28;01mif\u001b[39;00m message_body \u001b[38;5;129;01mis\u001b[39;00m \u001b[38;5;129;01mnot\u001b[39;00m \u001b[38;5;28;01mNone\u001b[39;00m:\n\u001b[0;32m   1044\u001b[0m \n\u001b[0;32m   1045\u001b[0m     \u001b[38;5;66;03m# create a consistent interface to message_body\u001b[39;00m\n",
      "File \u001b[1;32m~\\anaconda3\\Lib\\http\\client.py:979\u001b[0m, in \u001b[0;36mHTTPConnection.send\u001b[1;34m(self, data)\u001b[0m\n\u001b[0;32m    978\u001b[0m \u001b[38;5;28;01mif\u001b[39;00m \u001b[38;5;28mself\u001b[39m\u001b[38;5;241m.\u001b[39mauto_open:\n\u001b[1;32m--> 979\u001b[0m     \u001b[38;5;28mself\u001b[39m\u001b[38;5;241m.\u001b[39mconnect()\n\u001b[0;32m    980\u001b[0m \u001b[38;5;28;01melse\u001b[39;00m:\n",
      "File \u001b[1;32m~\\anaconda3\\Lib\\http\\client.py:1451\u001b[0m, in \u001b[0;36mHTTPSConnection.connect\u001b[1;34m(self)\u001b[0m\n\u001b[0;32m   1449\u001b[0m \u001b[38;5;124m\"\u001b[39m\u001b[38;5;124mConnect to a host on a given (SSL) port.\u001b[39m\u001b[38;5;124m\"\u001b[39m\n\u001b[1;32m-> 1451\u001b[0m \u001b[38;5;28msuper\u001b[39m()\u001b[38;5;241m.\u001b[39mconnect()\n\u001b[0;32m   1453\u001b[0m \u001b[38;5;28;01mif\u001b[39;00m \u001b[38;5;28mself\u001b[39m\u001b[38;5;241m.\u001b[39m_tunnel_host:\n",
      "File \u001b[1;32m~\\anaconda3\\Lib\\http\\client.py:945\u001b[0m, in \u001b[0;36mHTTPConnection.connect\u001b[1;34m(self)\u001b[0m\n\u001b[0;32m    944\u001b[0m sys\u001b[38;5;241m.\u001b[39maudit(\u001b[38;5;124m\"\u001b[39m\u001b[38;5;124mhttp.client.connect\u001b[39m\u001b[38;5;124m\"\u001b[39m, \u001b[38;5;28mself\u001b[39m, \u001b[38;5;28mself\u001b[39m\u001b[38;5;241m.\u001b[39mhost, \u001b[38;5;28mself\u001b[39m\u001b[38;5;241m.\u001b[39mport)\n\u001b[1;32m--> 945\u001b[0m \u001b[38;5;28mself\u001b[39m\u001b[38;5;241m.\u001b[39msock \u001b[38;5;241m=\u001b[39m \u001b[38;5;28mself\u001b[39m\u001b[38;5;241m.\u001b[39m_create_connection(\n\u001b[0;32m    946\u001b[0m     (\u001b[38;5;28mself\u001b[39m\u001b[38;5;241m.\u001b[39mhost,\u001b[38;5;28mself\u001b[39m\u001b[38;5;241m.\u001b[39mport), \u001b[38;5;28mself\u001b[39m\u001b[38;5;241m.\u001b[39mtimeout, \u001b[38;5;28mself\u001b[39m\u001b[38;5;241m.\u001b[39msource_address)\n\u001b[0;32m    947\u001b[0m \u001b[38;5;66;03m# Might fail in OSs that don't implement TCP_NODELAY\u001b[39;00m\n",
      "File \u001b[1;32m~\\anaconda3\\Lib\\socket.py:851\u001b[0m, in \u001b[0;36mcreate_connection\u001b[1;34m(address, timeout, source_address, all_errors)\u001b[0m\n\u001b[0;32m    850\u001b[0m \u001b[38;5;28;01mif\u001b[39;00m \u001b[38;5;129;01mnot\u001b[39;00m all_errors:\n\u001b[1;32m--> 851\u001b[0m     \u001b[38;5;28;01mraise\u001b[39;00m exceptions[\u001b[38;5;241m0\u001b[39m]\n\u001b[0;32m    852\u001b[0m \u001b[38;5;28;01mraise\u001b[39;00m ExceptionGroup(\u001b[38;5;124m\"\u001b[39m\u001b[38;5;124mcreate_connection failed\u001b[39m\u001b[38;5;124m\"\u001b[39m, exceptions)\n",
      "File \u001b[1;32m~\\anaconda3\\Lib\\socket.py:836\u001b[0m, in \u001b[0;36mcreate_connection\u001b[1;34m(address, timeout, source_address, all_errors)\u001b[0m\n\u001b[0;32m    835\u001b[0m     sock\u001b[38;5;241m.\u001b[39mbind(source_address)\n\u001b[1;32m--> 836\u001b[0m sock\u001b[38;5;241m.\u001b[39mconnect(sa)\n\u001b[0;32m    837\u001b[0m \u001b[38;5;66;03m# Break explicitly a reference cycle\u001b[39;00m\n",
      "\u001b[1;31mTimeoutError\u001b[0m: [WinError 10060] A connection attempt failed because the connected party did not properly respond after a period of time, or established connection failed because connected host has failed to respond",
      "\nDuring handling of the above exception, another exception occurred:\n",
      "\u001b[1;31mURLError\u001b[0m                                  Traceback (most recent call last)",
      "Cell \u001b[1;32mIn[23], line 10\u001b[0m\n\u001b[0;32m      7\u001b[0m github_link \u001b[38;5;241m=\u001b[39m \u001b[38;5;124m\"\u001b[39m\u001b[38;5;124mhttps://raw.githubusercontent.com/dsrscientist/DSData/master/happiness_score_dataset.csv\u001b[39m\u001b[38;5;124m\"\u001b[39m\n\u001b[0;32m      9\u001b[0m \u001b[38;5;66;03m# Read the data into a DataFrame\u001b[39;00m\n\u001b[1;32m---> 10\u001b[0m df \u001b[38;5;241m=\u001b[39m pd\u001b[38;5;241m.\u001b[39mread_csv(github_link)\n\u001b[0;32m     12\u001b[0m \u001b[38;5;66;03m# Extract the first 6 letters of each country and create a new column\u001b[39;00m\n\u001b[0;32m     13\u001b[0m df[\u001b[38;5;124m'\u001b[39m\u001b[38;5;124mfirst_six_letters\u001b[39m\u001b[38;5;124m'\u001b[39m] \u001b[38;5;241m=\u001b[39m df[\u001b[38;5;124m'\u001b[39m\u001b[38;5;124mCountry\u001b[39m\u001b[38;5;124m'\u001b[39m]\u001b[38;5;241m.\u001b[39mstr[:\u001b[38;5;241m6\u001b[39m]\n",
      "File \u001b[1;32m~\\anaconda3\\Lib\\site-packages\\pandas\\io\\parsers\\readers.py:912\u001b[0m, in \u001b[0;36mread_csv\u001b[1;34m(filepath_or_buffer, sep, delimiter, header, names, index_col, usecols, dtype, engine, converters, true_values, false_values, skipinitialspace, skiprows, skipfooter, nrows, na_values, keep_default_na, na_filter, verbose, skip_blank_lines, parse_dates, infer_datetime_format, keep_date_col, date_parser, date_format, dayfirst, cache_dates, iterator, chunksize, compression, thousands, decimal, lineterminator, quotechar, quoting, doublequote, escapechar, comment, encoding, encoding_errors, dialect, on_bad_lines, delim_whitespace, low_memory, memory_map, float_precision, storage_options, dtype_backend)\u001b[0m\n\u001b[0;32m    899\u001b[0m kwds_defaults \u001b[38;5;241m=\u001b[39m _refine_defaults_read(\n\u001b[0;32m    900\u001b[0m     dialect,\n\u001b[0;32m    901\u001b[0m     delimiter,\n\u001b[1;32m   (...)\u001b[0m\n\u001b[0;32m    908\u001b[0m     dtype_backend\u001b[38;5;241m=\u001b[39mdtype_backend,\n\u001b[0;32m    909\u001b[0m )\n\u001b[0;32m    910\u001b[0m kwds\u001b[38;5;241m.\u001b[39mupdate(kwds_defaults)\n\u001b[1;32m--> 912\u001b[0m \u001b[38;5;28;01mreturn\u001b[39;00m _read(filepath_or_buffer, kwds)\n",
      "File \u001b[1;32m~\\anaconda3\\Lib\\site-packages\\pandas\\io\\parsers\\readers.py:577\u001b[0m, in \u001b[0;36m_read\u001b[1;34m(filepath_or_buffer, kwds)\u001b[0m\n\u001b[0;32m    574\u001b[0m _validate_names(kwds\u001b[38;5;241m.\u001b[39mget(\u001b[38;5;124m\"\u001b[39m\u001b[38;5;124mnames\u001b[39m\u001b[38;5;124m\"\u001b[39m, \u001b[38;5;28;01mNone\u001b[39;00m))\n\u001b[0;32m    576\u001b[0m \u001b[38;5;66;03m# Create the parser.\u001b[39;00m\n\u001b[1;32m--> 577\u001b[0m parser \u001b[38;5;241m=\u001b[39m TextFileReader(filepath_or_buffer, \u001b[38;5;241m*\u001b[39m\u001b[38;5;241m*\u001b[39mkwds)\n\u001b[0;32m    579\u001b[0m \u001b[38;5;28;01mif\u001b[39;00m chunksize \u001b[38;5;129;01mor\u001b[39;00m iterator:\n\u001b[0;32m    580\u001b[0m     \u001b[38;5;28;01mreturn\u001b[39;00m parser\n",
      "File \u001b[1;32m~\\anaconda3\\Lib\\site-packages\\pandas\\io\\parsers\\readers.py:1407\u001b[0m, in \u001b[0;36mTextFileReader.__init__\u001b[1;34m(self, f, engine, **kwds)\u001b[0m\n\u001b[0;32m   1404\u001b[0m     \u001b[38;5;28mself\u001b[39m\u001b[38;5;241m.\u001b[39moptions[\u001b[38;5;124m\"\u001b[39m\u001b[38;5;124mhas_index_names\u001b[39m\u001b[38;5;124m\"\u001b[39m] \u001b[38;5;241m=\u001b[39m kwds[\u001b[38;5;124m\"\u001b[39m\u001b[38;5;124mhas_index_names\u001b[39m\u001b[38;5;124m\"\u001b[39m]\n\u001b[0;32m   1406\u001b[0m \u001b[38;5;28mself\u001b[39m\u001b[38;5;241m.\u001b[39mhandles: IOHandles \u001b[38;5;241m|\u001b[39m \u001b[38;5;28;01mNone\u001b[39;00m \u001b[38;5;241m=\u001b[39m \u001b[38;5;28;01mNone\u001b[39;00m\n\u001b[1;32m-> 1407\u001b[0m \u001b[38;5;28mself\u001b[39m\u001b[38;5;241m.\u001b[39m_engine \u001b[38;5;241m=\u001b[39m \u001b[38;5;28mself\u001b[39m\u001b[38;5;241m.\u001b[39m_make_engine(f, \u001b[38;5;28mself\u001b[39m\u001b[38;5;241m.\u001b[39mengine)\n",
      "File \u001b[1;32m~\\anaconda3\\Lib\\site-packages\\pandas\\io\\parsers\\readers.py:1661\u001b[0m, in \u001b[0;36mTextFileReader._make_engine\u001b[1;34m(self, f, engine)\u001b[0m\n\u001b[0;32m   1659\u001b[0m     \u001b[38;5;28;01mif\u001b[39;00m \u001b[38;5;124m\"\u001b[39m\u001b[38;5;124mb\u001b[39m\u001b[38;5;124m\"\u001b[39m \u001b[38;5;129;01mnot\u001b[39;00m \u001b[38;5;129;01min\u001b[39;00m mode:\n\u001b[0;32m   1660\u001b[0m         mode \u001b[38;5;241m+\u001b[39m\u001b[38;5;241m=\u001b[39m \u001b[38;5;124m\"\u001b[39m\u001b[38;5;124mb\u001b[39m\u001b[38;5;124m\"\u001b[39m\n\u001b[1;32m-> 1661\u001b[0m \u001b[38;5;28mself\u001b[39m\u001b[38;5;241m.\u001b[39mhandles \u001b[38;5;241m=\u001b[39m get_handle(\n\u001b[0;32m   1662\u001b[0m     f,\n\u001b[0;32m   1663\u001b[0m     mode,\n\u001b[0;32m   1664\u001b[0m     encoding\u001b[38;5;241m=\u001b[39m\u001b[38;5;28mself\u001b[39m\u001b[38;5;241m.\u001b[39moptions\u001b[38;5;241m.\u001b[39mget(\u001b[38;5;124m\"\u001b[39m\u001b[38;5;124mencoding\u001b[39m\u001b[38;5;124m\"\u001b[39m, \u001b[38;5;28;01mNone\u001b[39;00m),\n\u001b[0;32m   1665\u001b[0m     compression\u001b[38;5;241m=\u001b[39m\u001b[38;5;28mself\u001b[39m\u001b[38;5;241m.\u001b[39moptions\u001b[38;5;241m.\u001b[39mget(\u001b[38;5;124m\"\u001b[39m\u001b[38;5;124mcompression\u001b[39m\u001b[38;5;124m\"\u001b[39m, \u001b[38;5;28;01mNone\u001b[39;00m),\n\u001b[0;32m   1666\u001b[0m     memory_map\u001b[38;5;241m=\u001b[39m\u001b[38;5;28mself\u001b[39m\u001b[38;5;241m.\u001b[39moptions\u001b[38;5;241m.\u001b[39mget(\u001b[38;5;124m\"\u001b[39m\u001b[38;5;124mmemory_map\u001b[39m\u001b[38;5;124m\"\u001b[39m, \u001b[38;5;28;01mFalse\u001b[39;00m),\n\u001b[0;32m   1667\u001b[0m     is_text\u001b[38;5;241m=\u001b[39mis_text,\n\u001b[0;32m   1668\u001b[0m     errors\u001b[38;5;241m=\u001b[39m\u001b[38;5;28mself\u001b[39m\u001b[38;5;241m.\u001b[39moptions\u001b[38;5;241m.\u001b[39mget(\u001b[38;5;124m\"\u001b[39m\u001b[38;5;124mencoding_errors\u001b[39m\u001b[38;5;124m\"\u001b[39m, \u001b[38;5;124m\"\u001b[39m\u001b[38;5;124mstrict\u001b[39m\u001b[38;5;124m\"\u001b[39m),\n\u001b[0;32m   1669\u001b[0m     storage_options\u001b[38;5;241m=\u001b[39m\u001b[38;5;28mself\u001b[39m\u001b[38;5;241m.\u001b[39moptions\u001b[38;5;241m.\u001b[39mget(\u001b[38;5;124m\"\u001b[39m\u001b[38;5;124mstorage_options\u001b[39m\u001b[38;5;124m\"\u001b[39m, \u001b[38;5;28;01mNone\u001b[39;00m),\n\u001b[0;32m   1670\u001b[0m )\n\u001b[0;32m   1671\u001b[0m \u001b[38;5;28;01massert\u001b[39;00m \u001b[38;5;28mself\u001b[39m\u001b[38;5;241m.\u001b[39mhandles \u001b[38;5;129;01mis\u001b[39;00m \u001b[38;5;129;01mnot\u001b[39;00m \u001b[38;5;28;01mNone\u001b[39;00m\n\u001b[0;32m   1672\u001b[0m f \u001b[38;5;241m=\u001b[39m \u001b[38;5;28mself\u001b[39m\u001b[38;5;241m.\u001b[39mhandles\u001b[38;5;241m.\u001b[39mhandle\n",
      "File \u001b[1;32m~\\anaconda3\\Lib\\site-packages\\pandas\\io\\common.py:716\u001b[0m, in \u001b[0;36mget_handle\u001b[1;34m(path_or_buf, mode, encoding, compression, memory_map, is_text, errors, storage_options)\u001b[0m\n\u001b[0;32m    713\u001b[0m     codecs\u001b[38;5;241m.\u001b[39mlookup_error(errors)\n\u001b[0;32m    715\u001b[0m \u001b[38;5;66;03m# open URLs\u001b[39;00m\n\u001b[1;32m--> 716\u001b[0m ioargs \u001b[38;5;241m=\u001b[39m _get_filepath_or_buffer(\n\u001b[0;32m    717\u001b[0m     path_or_buf,\n\u001b[0;32m    718\u001b[0m     encoding\u001b[38;5;241m=\u001b[39mencoding,\n\u001b[0;32m    719\u001b[0m     compression\u001b[38;5;241m=\u001b[39mcompression,\n\u001b[0;32m    720\u001b[0m     mode\u001b[38;5;241m=\u001b[39mmode,\n\u001b[0;32m    721\u001b[0m     storage_options\u001b[38;5;241m=\u001b[39mstorage_options,\n\u001b[0;32m    722\u001b[0m )\n\u001b[0;32m    724\u001b[0m handle \u001b[38;5;241m=\u001b[39m ioargs\u001b[38;5;241m.\u001b[39mfilepath_or_buffer\n\u001b[0;32m    725\u001b[0m handles: \u001b[38;5;28mlist\u001b[39m[BaseBuffer]\n",
      "File \u001b[1;32m~\\anaconda3\\Lib\\site-packages\\pandas\\io\\common.py:368\u001b[0m, in \u001b[0;36m_get_filepath_or_buffer\u001b[1;34m(filepath_or_buffer, encoding, compression, mode, storage_options)\u001b[0m\n\u001b[0;32m    366\u001b[0m \u001b[38;5;66;03m# assuming storage_options is to be interpreted as headers\u001b[39;00m\n\u001b[0;32m    367\u001b[0m req_info \u001b[38;5;241m=\u001b[39m urllib\u001b[38;5;241m.\u001b[39mrequest\u001b[38;5;241m.\u001b[39mRequest(filepath_or_buffer, headers\u001b[38;5;241m=\u001b[39mstorage_options)\n\u001b[1;32m--> 368\u001b[0m \u001b[38;5;28;01mwith\u001b[39;00m urlopen(req_info) \u001b[38;5;28;01mas\u001b[39;00m req:\n\u001b[0;32m    369\u001b[0m     content_encoding \u001b[38;5;241m=\u001b[39m req\u001b[38;5;241m.\u001b[39mheaders\u001b[38;5;241m.\u001b[39mget(\u001b[38;5;124m\"\u001b[39m\u001b[38;5;124mContent-Encoding\u001b[39m\u001b[38;5;124m\"\u001b[39m, \u001b[38;5;28;01mNone\u001b[39;00m)\n\u001b[0;32m    370\u001b[0m     \u001b[38;5;28;01mif\u001b[39;00m content_encoding \u001b[38;5;241m==\u001b[39m \u001b[38;5;124m\"\u001b[39m\u001b[38;5;124mgzip\u001b[39m\u001b[38;5;124m\"\u001b[39m:\n\u001b[0;32m    371\u001b[0m         \u001b[38;5;66;03m# Override compression based on Content-Encoding header\u001b[39;00m\n",
      "File \u001b[1;32m~\\anaconda3\\Lib\\site-packages\\pandas\\io\\common.py:270\u001b[0m, in \u001b[0;36murlopen\u001b[1;34m(*args, **kwargs)\u001b[0m\n\u001b[0;32m    264\u001b[0m \u001b[38;5;250m\u001b[39m\u001b[38;5;124;03m\"\"\"\u001b[39;00m\n\u001b[0;32m    265\u001b[0m \u001b[38;5;124;03mLazy-import wrapper for stdlib urlopen, as that imports a big chunk of\u001b[39;00m\n\u001b[0;32m    266\u001b[0m \u001b[38;5;124;03mthe stdlib.\u001b[39;00m\n\u001b[0;32m    267\u001b[0m \u001b[38;5;124;03m\"\"\"\u001b[39;00m\n\u001b[0;32m    268\u001b[0m \u001b[38;5;28;01mimport\u001b[39;00m \u001b[38;5;21;01murllib\u001b[39;00m\u001b[38;5;21;01m.\u001b[39;00m\u001b[38;5;21;01mrequest\u001b[39;00m\n\u001b[1;32m--> 270\u001b[0m \u001b[38;5;28;01mreturn\u001b[39;00m urllib\u001b[38;5;241m.\u001b[39mrequest\u001b[38;5;241m.\u001b[39murlopen(\u001b[38;5;241m*\u001b[39margs, \u001b[38;5;241m*\u001b[39m\u001b[38;5;241m*\u001b[39mkwargs)\n",
      "File \u001b[1;32m~\\anaconda3\\Lib\\urllib\\request.py:216\u001b[0m, in \u001b[0;36murlopen\u001b[1;34m(url, data, timeout, cafile, capath, cadefault, context)\u001b[0m\n\u001b[0;32m    214\u001b[0m \u001b[38;5;28;01melse\u001b[39;00m:\n\u001b[0;32m    215\u001b[0m     opener \u001b[38;5;241m=\u001b[39m _opener\n\u001b[1;32m--> 216\u001b[0m \u001b[38;5;28;01mreturn\u001b[39;00m opener\u001b[38;5;241m.\u001b[39mopen(url, data, timeout)\n",
      "File \u001b[1;32m~\\anaconda3\\Lib\\urllib\\request.py:519\u001b[0m, in \u001b[0;36mOpenerDirector.open\u001b[1;34m(self, fullurl, data, timeout)\u001b[0m\n\u001b[0;32m    516\u001b[0m     req \u001b[38;5;241m=\u001b[39m meth(req)\n\u001b[0;32m    518\u001b[0m sys\u001b[38;5;241m.\u001b[39maudit(\u001b[38;5;124m'\u001b[39m\u001b[38;5;124murllib.Request\u001b[39m\u001b[38;5;124m'\u001b[39m, req\u001b[38;5;241m.\u001b[39mfull_url, req\u001b[38;5;241m.\u001b[39mdata, req\u001b[38;5;241m.\u001b[39mheaders, req\u001b[38;5;241m.\u001b[39mget_method())\n\u001b[1;32m--> 519\u001b[0m response \u001b[38;5;241m=\u001b[39m \u001b[38;5;28mself\u001b[39m\u001b[38;5;241m.\u001b[39m_open(req, data)\n\u001b[0;32m    521\u001b[0m \u001b[38;5;66;03m# post-process response\u001b[39;00m\n\u001b[0;32m    522\u001b[0m meth_name \u001b[38;5;241m=\u001b[39m protocol\u001b[38;5;241m+\u001b[39m\u001b[38;5;124m\"\u001b[39m\u001b[38;5;124m_response\u001b[39m\u001b[38;5;124m\"\u001b[39m\n",
      "File \u001b[1;32m~\\anaconda3\\Lib\\urllib\\request.py:536\u001b[0m, in \u001b[0;36mOpenerDirector._open\u001b[1;34m(self, req, data)\u001b[0m\n\u001b[0;32m    533\u001b[0m     \u001b[38;5;28;01mreturn\u001b[39;00m result\n\u001b[0;32m    535\u001b[0m protocol \u001b[38;5;241m=\u001b[39m req\u001b[38;5;241m.\u001b[39mtype\n\u001b[1;32m--> 536\u001b[0m result \u001b[38;5;241m=\u001b[39m \u001b[38;5;28mself\u001b[39m\u001b[38;5;241m.\u001b[39m_call_chain(\u001b[38;5;28mself\u001b[39m\u001b[38;5;241m.\u001b[39mhandle_open, protocol, protocol \u001b[38;5;241m+\u001b[39m\n\u001b[0;32m    537\u001b[0m                           \u001b[38;5;124m'\u001b[39m\u001b[38;5;124m_open\u001b[39m\u001b[38;5;124m'\u001b[39m, req)\n\u001b[0;32m    538\u001b[0m \u001b[38;5;28;01mif\u001b[39;00m result:\n\u001b[0;32m    539\u001b[0m     \u001b[38;5;28;01mreturn\u001b[39;00m result\n",
      "File \u001b[1;32m~\\anaconda3\\Lib\\urllib\\request.py:496\u001b[0m, in \u001b[0;36mOpenerDirector._call_chain\u001b[1;34m(self, chain, kind, meth_name, *args)\u001b[0m\n\u001b[0;32m    494\u001b[0m \u001b[38;5;28;01mfor\u001b[39;00m handler \u001b[38;5;129;01min\u001b[39;00m handlers:\n\u001b[0;32m    495\u001b[0m     func \u001b[38;5;241m=\u001b[39m \u001b[38;5;28mgetattr\u001b[39m(handler, meth_name)\n\u001b[1;32m--> 496\u001b[0m     result \u001b[38;5;241m=\u001b[39m func(\u001b[38;5;241m*\u001b[39margs)\n\u001b[0;32m    497\u001b[0m     \u001b[38;5;28;01mif\u001b[39;00m result \u001b[38;5;129;01mis\u001b[39;00m \u001b[38;5;129;01mnot\u001b[39;00m \u001b[38;5;28;01mNone\u001b[39;00m:\n\u001b[0;32m    498\u001b[0m         \u001b[38;5;28;01mreturn\u001b[39;00m result\n",
      "File \u001b[1;32m~\\anaconda3\\Lib\\urllib\\request.py:1391\u001b[0m, in \u001b[0;36mHTTPSHandler.https_open\u001b[1;34m(self, req)\u001b[0m\n\u001b[0;32m   1390\u001b[0m \u001b[38;5;28;01mdef\u001b[39;00m \u001b[38;5;21mhttps_open\u001b[39m(\u001b[38;5;28mself\u001b[39m, req):\n\u001b[1;32m-> 1391\u001b[0m     \u001b[38;5;28;01mreturn\u001b[39;00m \u001b[38;5;28mself\u001b[39m\u001b[38;5;241m.\u001b[39mdo_open(http\u001b[38;5;241m.\u001b[39mclient\u001b[38;5;241m.\u001b[39mHTTPSConnection, req,\n\u001b[0;32m   1392\u001b[0m         context\u001b[38;5;241m=\u001b[39m\u001b[38;5;28mself\u001b[39m\u001b[38;5;241m.\u001b[39m_context, check_hostname\u001b[38;5;241m=\u001b[39m\u001b[38;5;28mself\u001b[39m\u001b[38;5;241m.\u001b[39m_check_hostname)\n",
      "File \u001b[1;32m~\\anaconda3\\Lib\\urllib\\request.py:1351\u001b[0m, in \u001b[0;36mAbstractHTTPHandler.do_open\u001b[1;34m(self, http_class, req, **http_conn_args)\u001b[0m\n\u001b[0;32m   1348\u001b[0m         h\u001b[38;5;241m.\u001b[39mrequest(req\u001b[38;5;241m.\u001b[39mget_method(), req\u001b[38;5;241m.\u001b[39mselector, req\u001b[38;5;241m.\u001b[39mdata, headers,\n\u001b[0;32m   1349\u001b[0m                   encode_chunked\u001b[38;5;241m=\u001b[39mreq\u001b[38;5;241m.\u001b[39mhas_header(\u001b[38;5;124m'\u001b[39m\u001b[38;5;124mTransfer-encoding\u001b[39m\u001b[38;5;124m'\u001b[39m))\n\u001b[0;32m   1350\u001b[0m     \u001b[38;5;28;01mexcept\u001b[39;00m \u001b[38;5;167;01mOSError\u001b[39;00m \u001b[38;5;28;01mas\u001b[39;00m err: \u001b[38;5;66;03m# timeout error\u001b[39;00m\n\u001b[1;32m-> 1351\u001b[0m         \u001b[38;5;28;01mraise\u001b[39;00m URLError(err)\n\u001b[0;32m   1352\u001b[0m     r \u001b[38;5;241m=\u001b[39m h\u001b[38;5;241m.\u001b[39mgetresponse()\n\u001b[0;32m   1353\u001b[0m \u001b[38;5;28;01mexcept\u001b[39;00m:\n",
      "\u001b[1;31mURLError\u001b[0m: <urlopen error [WinError 10060] A connection attempt failed because the connected party did not properly respond after a period of time, or established connection failed because connected host has failed to respond>"
     ]
    }
   ],
   "source": [
    "#Question 10- Use the github link below to read the data and create a dataframe. \n",
    "#After creating the dataframe extract the first 6 letters of each country and store in the dataframe \n",
    "#under a new column called first_five_letters.\n",
    "#Github Link-  https://raw.githubusercontent.com/dsrscientist/DSData/master/happiness_score_dataset.csv\n",
    "\n",
    "# GitHub link to the dataset\n",
    "github_link = \"https://raw.githubusercontent.com/dsrscientist/DSData/master/happiness_score_dataset.csv\"\n",
    "\n",
    "# Read the data into a DataFrame\n",
    "df = pd.read_csv(github_link)\n",
    "\n",
    "# Extract the first 6 letters of each country and create a new column\n",
    "df['first_six_letters'] = df['Country'].str[:6]\n",
    "\n",
    "# Display the DataFrame to verify the changes\n",
    "print(df.head())\n",
    "\n"
   ]
  },
  {
   "cell_type": "markdown",
   "id": "b713a2b9",
   "metadata": {},
   "source": [
    "when i tried to access the url iam getting the below error:\n",
    "#URLError: <urlopen error [WinError 10060] A connection attempt failed because the \n",
    "connected party did not properly respond after a period of time, or established connection \n",
    "failed because connected host has failed to respond>"
   ]
  },
  {
   "cell_type": "markdown",
   "id": "07745bca",
   "metadata": {},
   "source": [
    "Question 11- Write a Python program to match a string that contains only upper and lowercase letters, numbers, and underscores."
   ]
  },
  {
   "cell_type": "code",
   "execution_count": null,
   "id": "a4743a3e",
   "metadata": {},
   "outputs": [],
   "source": [
    "def upper_lower_num_under(string):\n",
    "    pattern=r'^[A-Za-z0-9_]+$'\n",
    "    if re.match(pattern,string):\n",
    "        print('String matches the pattern')\n",
    "    else:\n",
    "        print('String not matches the pattern')\n",
    "    \n",
    "upper_lower_num_under('shaik_mainuddin_786')\n",
    "upper_lower_num_under('my name is shaik mainuddin')\n"
   ]
  },
  {
   "cell_type": "markdown",
   "id": "84bfd2bf",
   "metadata": {},
   "source": [
    "Explanation-->i have created upper_lower_num_under() function to reuse my code. i have used this pattern ^[a-zA-Z0-9_]+$ \n",
    "where '^ 'indicates starts with  and  '$' indiactes ends with  and + indicates one or more occurences of any uppercase letter (A-Z),lowercase letter (a-z), digit (0-9), or underscore (_) to match a string that contains only upper and lowercase letters,#numbers, and underscores"
   ]
  },
  {
   "cell_type": "markdown",
   "id": "908b34a3",
   "metadata": {},
   "source": [
    "Question 12- Write a Python program where a string will start with a specific number. "
   ]
  },
  {
   "cell_type": "code",
   "execution_count": 80,
   "id": "aa70911a",
   "metadata": {},
   "outputs": [
    {
     "name": "stdout",
     "output_type": "stream",
     "text": [
      "True\n"
     ]
    }
   ],
   "source": [
    "def match_Specific_num(string):\n",
    "    text = re.compile(r\"^5\")\n",
    "    if text.match(string):\n",
    "        return True\n",
    "    else:\n",
    "        return False\n",
    "print(match_Specific_num('5sha2345861'))"
   ]
  },
  {
   "cell_type": "markdown",
   "id": "3e8f69e4",
   "metadata": {},
   "source": [
    "Explanation-->i have created match_Specific_num() function to reuse my code.and used r\"^5\" this pattern which indicates  starting with specific number and used if condition to return true if matches and return false if does not match "
   ]
  },
  {
   "cell_type": "markdown",
   "id": "26113077",
   "metadata": {},
   "source": [
    "Question 13- Write a Python program to remove leading zeros from an IP address"
   ]
  },
  {
   "cell_type": "code",
   "execution_count": 32,
   "id": "bde9999c",
   "metadata": {},
   "outputs": [
    {
     "name": "stdout",
     "output_type": "stream",
     "text": [
      "216.8.94.196\n"
     ]
    }
   ],
   "source": [
    "def remove_zeros(ip_adreess):\n",
    "    Result=re.sub(r'\\.[0]*','.',ip_adreess)\n",
    "    return Result\n",
    "\n",
    "print(remove_zeros(\"216.08.094.196\"))\n"
   ]
  },
  {
   "cell_type": "markdown",
   "id": "1054f9ba",
   "metadata": {},
   "source": [
    "Explanation-->i have created remove_zeros() function to reuse my code. and used r'\\.[0]*' this pattern where \\. matches the dot and [0]* matches zeros in one more occurences and used re.sub to replace it with dot which helps to remove leading zeros from an ip adress"
   ]
  },
  {
   "cell_type": "markdown",
   "id": "d3f32704",
   "metadata": {},
   "source": [
    "Question 14- Write a regular expression in python to match a date string in the form of Month name followed by day number and year stored in a text file.\n",
    "Sample text :  ' On August 15th 1947 that India was declared independent from British colonialism, and the reins of control were handed over to the leaders of the Country’.\n",
    "Expected Output- August 15th 1947\n",
    "Note- Store given sample text in the text file and then extract the date string asked format.\n"
   ]
  },
  {
   "cell_type": "code",
   "execution_count": 86,
   "id": "d272ce98",
   "metadata": {
    "scrolled": true
   },
   "outputs": [
    {
     "name": "stdout",
     "output_type": "stream",
     "text": [
      "August 15th 1947\n"
     ]
    }
   ],
   "source": [
    "file_path = 'Sample_test.txt' \n",
    "with open(file_path) as file:\n",
    "    text = file.read()\n",
    "pattern = r'\\b([A-Z][a-z]+ \\d{1,2}(?:st|nd|rd|th)? \\d{4})\\b'\n",
    "Result= re.findall(pattern, text)\n",
    "for match in Result:\n",
    "    print(match)"
   ]
  },
  {
   "cell_type": "markdown",
   "id": "9f970c60",
   "metadata": {},
   "source": [
    "Explanation-->i have used this pattern ^[a-zA-Z0-9_]+$ where \\b  This is a word boundary anchor. [A-Z][a-z]+ \n",
    "indicates one or more occurences of any uppercase letter (A-Z), lowercase letter (a-z),\n",
    "\\d{1,2} matches the number with one or 2 digits,(?:st|nd|rd|th) o or one occurence of the precedong characters, \n",
    "\\d{4} matches a digit with four number And used re.findall to find all the matces,and for loop then iterates over the matches, and the print statement displays each match"
   ]
  },
  {
   "cell_type": "markdown",
   "id": "d5e6ab8b",
   "metadata": {},
   "source": [
    "Question 15- Write a Python program to search some literals strings in a string. \n",
    "Sample text : 'The quick brown fox jumps over the lazy dog.'\n",
    "Searched words : 'fox', 'dog', 'horse'\n"
   ]
  },
  {
   "cell_type": "code",
   "execution_count": 52,
   "id": "95595c90",
   "metadata": {},
   "outputs": [
    {
     "name": "stdout",
     "output_type": "stream",
     "text": [
      "Searching for \"fox\" in \"The quick brown fox jumps over the lazy dog.\" ->\n",
      "Matched!\n",
      "Searching for \"horse\" in \"The quick brown fox jumps over the lazy dog.\" ->\n",
      "Not Matched!\n",
      "Searching for \"dog\" in \"The quick brown fox jumps over the lazy dog.\" ->\n",
      "Matched!\n"
     ]
    }
   ],
   "source": [
    "text = 'The quick brown fox jumps over the lazy dog.'\n",
    "def literal_strings(string):\n",
    "    patterns = ['fox','horse','dog']\n",
    "    for pattern in patterns:\n",
    "        print('Searching for \"%s\" in \"%s\" ->' % (pattern, string))\n",
    "        if re.search(pattern,  string):\n",
    "               print('Matched!')\n",
    "        else:\n",
    "            print('Not Matched!')      \n",
    "    \n",
    "literal_strings(text)\n",
    "\n",
    "    "
   ]
  },
  {
   "cell_type": "markdown",
   "id": "b83bf370",
   "metadata": {},
   "source": [
    "Explanation-->i have created literal_strings() function to reuse my code.'Searching for \"%s\" in \"%s\" ->' is a string that includes two placeholders %s. These placeholders will be replaced with the values specified in the tuple (pattern, text).% (pattern, text) is a tuple containing the values to replace the placeholders.\n",
    "The % operator then substitutes these values into the string.for loop then iterates over the matches,and re.search method helps to find whether the pattern is matched or not and the print statement displays each match."
   ]
  },
  {
   "cell_type": "markdown",
   "id": "0e9272f9",
   "metadata": {},
   "source": [
    "Question 16- Write a Python program to search a literals string in a string and also find the location within the original string where the pattern occurs\n",
    "Sample text : 'The quick brown fox jumps over the lazy dog.'\n",
    "Searched words : 'fox'\n"
   ]
  },
  {
   "cell_type": "code",
   "execution_count": 54,
   "id": "e04b8ce1",
   "metadata": {},
   "outputs": [
    {
     "name": "stdout",
     "output_type": "stream",
     "text": [
      "Found \"fox\" in \"The quick brown fox jumps over the lazy dog.\" from 16 to 19 \n"
     ]
    }
   ],
   "source": [
    "text = 'The quick brown fox jumps over the lazy dog.'\n",
    "def literal_strings_location(string):\n",
    "    Searched_words = 'fox' \n",
    "    match = re.search(Searched_words,string)\n",
    "    s = match.start()\n",
    "    e = match.end()\n",
    "    print('Found \"%s\" in \"%s\" from %d to %d ' % \\\n",
    "    (match.re.pattern, match.string, s, e))\n",
    "    \n",
    "    \n",
    "literal_strings_location(text)\n"
   ]
  },
  {
   "cell_type": "markdown",
   "id": "3fcef5d1",
   "metadata": {},
   "source": [
    "Explanation-->i have created literal_strings_location() function to reuse my code'Searching for \"%s\" in \"%s\" ->' is a string that includes two placeholders %s. \n",
    "These placeholders will be replaced with the values specified in the tuple (Sample_text, text)\n",
    "The % operator then substitutes these values into the string. and s and e hepls to store the values of the indices\n",
    "% \\  indicate that the line continues,re.search method helps to find whether the pattern is matched or not and the print statement displays each match."
   ]
  },
  {
   "cell_type": "markdown",
   "id": "771f626e",
   "metadata": {},
   "source": [
    "Question 17- Write a Python program to find the substrings within a string.\n",
    "Sample text : 'Python exercises, PHP exercises, C# exercises'\n",
    "Pattern : 'exercises'.\n"
   ]
  },
  {
   "cell_type": "code",
   "execution_count": 56,
   "id": "d346c6a2",
   "metadata": {},
   "outputs": [
    {
     "name": "stdout",
     "output_type": "stream",
     "text": [
      "Found \"exercises\"\n",
      "Found \"exercises\"\n",
      "Found \"exercises\"\n"
     ]
    }
   ],
   "source": [
    "\n",
    "Sample_text = 'Python exercises, PHP exercises, C# exercises'\n",
    "def substring_withinString(string):\n",
    "    pattern = 'exercises'\n",
    "    for match in re.findall(pattern, Sample_text):\n",
    "        print('Found \"%s\"' % match)   \n",
    "    \n",
    "substring_withinString(Sample_text)"
   ]
  },
  {
   "cell_type": "markdown",
   "id": "7d221ec0",
   "metadata": {},
   "source": [
    "Explanation-->i have created substring_withinString() function to reuse my code.These \"%s placeholder will be replaced with the values specified in the tuple (pattern, Sample_text)\n",
    "The % operator then substitutes these values into the string and finds the substrings within a string\n",
    "for loop then iterates over the matches, and the print statement displays each match. and re.findall function helps to find out all the matches"
   ]
  },
  {
   "cell_type": "markdown",
   "id": "55ab161d",
   "metadata": {},
   "source": [
    "Question 18- Write a Python program to find the occurrence and position of the substrings within a string."
   ]
  },
  {
   "cell_type": "code",
   "execution_count": 57,
   "id": "351bdcd8",
   "metadata": {},
   "outputs": [
    {
     "name": "stdout",
     "output_type": "stream",
     "text": [
      "Found \"Python exercises, PHP exercises, C# exercises\" at 7:16\n",
      "Found \"Python exercises, PHP exercises, C# exercises\" at 22:31\n",
      "Found \"Python exercises, PHP exercises, C# exercises\" at 36:45\n"
     ]
    }
   ],
   "source": [
    "text = 'Python exercises, PHP exercises, C# exercises'\n",
    "def occurence_position_string(string):\n",
    "    pattern = 'exercises'\n",
    "    for match in re.finditer(pattern, string):\n",
    "        s = match.start()\n",
    "        e = match.end()\n",
    "        print('Found \"%s\" at %d:%d' % (string, s, e))\n",
    "    \n",
    "    \n",
    "occurence_position_string(text)"
   ]
  },
  {
   "cell_type": "markdown",
   "id": "dcdc9519",
   "metadata": {},
   "source": [
    "Explanation-->i have created occurence_position_string() function to reuse my code.\n",
    "%s These placeholders will be replaced with the values specified in the tuple (pattern, text)\n",
    "The % operator then substitutes these values into the string. and s and e hepls to store the values of the indices\n",
    "re.finditer then iterates over the matches, and the print statement displays each match."
   ]
  },
  {
   "cell_type": "markdown",
   "id": "eba0b352",
   "metadata": {},
   "source": [
    "Question 19- Write a Python program to convert a date of yyyy-mm-dd format to dd-mm-yyyy format."
   ]
  },
  {
   "cell_type": "code",
   "execution_count": 60,
   "id": "25fcd1b7",
   "metadata": {},
   "outputs": [
    {
     "name": "stdout",
     "output_type": "stream",
     "text": [
      "12-14-2023\n"
     ]
    }
   ],
   "source": [
    "def change_date_format(dt):\n",
    "    pattern=r'(\\d{4})-(\\d{1,2})-(\\d{1,2})'\n",
    "    Result=re.sub(pattern,r'\\3-\\2-\\1',dt)\n",
    "    print(Result)\n",
    "change_date_format(\"2023-14-12\")\n"
   ]
  },
  {
   "cell_type": "markdown",
   "id": "f9df4cf0",
   "metadata": {},
   "source": [
    "Explanation-->i have created change_date_format() function to reuse my code.i have used this pattern r'(\\d{4})-(\\d{1,2})-(\\d{1,2})' where in group 1((\\d{4})) defines digit starting with four digits\n",
    "and group 2 (\\d{1,2}) matches the number with one or 2 digits, and group 3 (\\d{1,2}) matches the number with one or 2 digits\n",
    "and then used re.sub method and replaced the pattern with reversed order of groups in order to convert a date \n",
    "of yyyy-mm-dd format to dd-mm-yyyy format"
   ]
  },
  {
   "cell_type": "markdown",
   "id": "33abb9b9",
   "metadata": {},
   "source": [
    "Question 20- Create a function in python to find all decimal numbers with a precision of 1 or 2 in a string. The use of the re.compile() method is mandatory.\n",
    "Sample Text: \"01.12 0132.123 2.31875 145.8 3.01 27.25 0.25\"\n",
    "Expected Output: ['01.12', '145.8', '3.01', '27.25', '0.25']"
   ]
  },
  {
   "cell_type": "code",
   "execution_count": 62,
   "id": "afbcee38",
   "metadata": {},
   "outputs": [
    {
     "name": "stdout",
     "output_type": "stream",
     "text": [
      "['01.12', '145.8', '3.01', '27.25', '0.25']\n"
     ]
    }
   ],
   "source": [
    "def find_decimal_nums(string):\n",
    "    pattern_decimal_numbers=re.compile(r'\\b\\d+\\.\\d{1,2}\\b')\n",
    "    Result=re.findall(pattern_decimal_numbers,string)  \n",
    "    return Result                                   \n",
    "                                       \n",
    "Sample_Text= \"01.12 0132.123 2.31875 145.8 3.01 27.25 0.25\"\n",
    "output=find_decimal_nums(Sample_Text)  \n",
    "print(output)"
   ]
  },
  {
   "cell_type": "markdown",
   "id": "5a628e50",
   "metadata": {},
   "source": [
    "Explanation-->i have created find_decimal_nums() function to reuse my code.i have used this pattern (r'\\b\\d+\\.\\d{1,2}\\b') where  \\b word boundaries to ensure that the matched pattern represents a whole word. \n",
    "The pattern \\d+\\.\\d{1,2} matches one or more digits before the decimal point, the decimal point itself, and 1 or 2 digits after the decimal point\n",
    "to find all decimal numbers with a precision of 1 or 2 in a string.re.findall is used to find all th matches"
   ]
  },
  {
   "cell_type": "markdown",
   "id": "26969419",
   "metadata": {},
   "source": [
    "Question 21- Write a Python program to separate and print the numbers and their position of a given string."
   ]
  },
  {
   "cell_type": "code",
   "execution_count": 63,
   "id": "fe076518",
   "metadata": {},
   "outputs": [
    {
     "name": "stdout",
     "output_type": "stream",
     "text": [
      "index position of number is: <regex.Match object; span=(37, 39), match='25'> 37 39\n",
      "index position of number is: <regex.Match object; span=(67, 69), match='05'> 67 69\n"
     ]
    }
   ],
   "source": [
    "text = 'my name is shaik mainuddin,my age is 25 and my favourite number is 05'\n",
    "def printNum_position(string):\n",
    "    pattern = r'\\d+'\n",
    "    for match in re.finditer(pattern, string):\n",
    "        s = match.start()\n",
    "        e = match.end()\n",
    "        print('index position of number is:',match,s,e)\n",
    "printNum_position(text)   \n",
    "\n"
   ]
  },
  {
   "cell_type": "markdown",
   "id": "3adde37b",
   "metadata": {},
   "source": [
    "Explanation-->i have created printNum_position() function to reuse my code\n",
    "i have used \\d+ to find matches of one or more digits,\n",
    "i have used re.finditer to iterate through all matches of the pattern in the given text.\n",
    "s and e will return the starting and ending positions of the match found"
   ]
  },
  {
   "cell_type": "markdown",
   "id": "a2c00590",
   "metadata": {},
   "source": [
    "Question 22- Write a regular expression in python program to extract maximum/largest numeric value from a string.\n",
    "Sample Text:  'My marks in each semester are: 947, 896, 926, 524, 734, 950, 642'\n",
    "Expected Output: 950"
   ]
  },
  {
   "cell_type": "code",
   "execution_count": 66,
   "id": "1c378c19",
   "metadata": {},
   "outputs": [
    {
     "name": "stdout",
     "output_type": "stream",
     "text": [
      "950\n"
     ]
    }
   ],
   "source": [
    "text='My marks in each semester are: 947, 896, 926, 524, 734, 950, 642' \n",
    "def Largest_num(string):\n",
    "    pattern=r'\\d+'\n",
    "    Result = re.findall(pattern, string)\n",
    "    Max_num=max(list(map(int, Result)))\n",
    "    return Max_num\n",
    "  \n",
    "output=Largest_num(text)\n",
    "print(output)\n"
   ]
  },
  {
   "cell_type": "markdown",
   "id": "533f406d",
   "metadata": {},
   "source": [
    "Explanation-->i have created Largest_num() function to reuse my code.i have used \\d+ to find matches of one or more digits,\n",
    "then used re.findall method to find all the digits from a string\n",
    "then converted the result to integer and find the max from the list"
   ]
  },
  {
   "cell_type": "markdown",
   "id": "d158cebc",
   "metadata": {},
   "source": [
    "Question 23- Create a function in python to insert spaces between words starting with capital letters.\n",
    "Sample Text: “RegularExpressionIsAnImportantTopicInPython\"\n",
    "Expected Output: Regular Expression Is An Important Topic In Python"
   ]
  },
  {
   "cell_type": "code",
   "execution_count": null,
   "id": "4f736a92",
   "metadata": {},
   "outputs": [],
   "source": [
    "def Insert_spaces_Capwords(string):\n",
    "    pattern=r'(\\w)([A-Z])'\n",
    "    Result=re.sub(pattern,r'\\1 \\2', string)\n",
    "    return Result\n",
    "text='RegularExpressionIsAnImportantTopicInPython'\n",
    "output=Insert_spaces_Capwords(text)\n",
    "print(output)\n"
   ]
  },
  {
   "cell_type": "markdown",
   "id": "9c5fda9a",
   "metadata": {},
   "source": [
    "Explanation-->i have created Insert_spaces_Capwords() function to reuse my code.i have used r'(\\w)([A-Z])' this pattern where \\w  capturing group that matches a single word character (equivalent to [a-zA-Z0-9_])\n",
    "([A-Z]): This is another capturing group that matches a single uppercase letter\n",
    "Putting it together, the regular expression is designed to match a single word character followed by an uppercase letter. \n",
    "The use of capturing groups allows you to refer to the matched characters individually"
   ]
  },
  {
   "cell_type": "markdown",
   "id": "f90dadc3",
   "metadata": {},
   "source": [
    "Question 24- Python regex to find sequences of one upper case letter followed by lower case letters"
   ]
  },
  {
   "cell_type": "code",
   "execution_count": null,
   "id": "b7aed12c",
   "metadata": {},
   "outputs": [],
   "source": [
    "def text_match(text):\n",
    "        patterns = '[A-Z]+[a-z]+'\n",
    "        Result=re.findall(patterns, text)\n",
    "        return Result\n",
    "\n",
    "text_match('My Name Is Shaik Mainuddin')\n"
   ]
  },
  {
   "cell_type": "markdown",
   "id": "76f85167",
   "metadata": {},
   "source": [
    "Explanation-->i have created text_match() function to reuse my code.the regular expression [A-Z]+[a-z]+ ensures that the string starts with one or more uppercase letters, \n",
    "followed by one or more lowercase letters, "
   ]
  },
  {
   "cell_type": "markdown",
   "id": "dffd6315",
   "metadata": {},
   "source": [
    "Question 25- Write a Python program to remove continuous duplicate words from Sentence using Regular Expression.\n",
    "Sample Text: \"Hello hello world world\"\n",
    "Expected Output: Hello hello world"
   ]
  },
  {
   "cell_type": "code",
   "execution_count": null,
   "id": "85d816ec",
   "metadata": {},
   "outputs": [],
   "source": [
    "text='Hello hello world world'\n",
    "def remove_con_duplicates(string):\n",
    "    pattern=r'\\b(\\w+)(?:\\W+\\1\\b)+' \n",
    "    Result=re.sub(pattern,r'\\1',string)\n",
    "    return Result\n",
    "output=remove_con_duplicates(text)\n",
    "print(output)\n",
    "\n"
   ]
  },
  {
   "cell_type": "markdown",
   "id": "20c83586",
   "metadata": {},
   "source": [
    "Explanation-->i have created remove_con_duplicates() function to reuse my code.i have used r'\\b(\\w+)(?:\\W+\\1\\b)+'  this pattern where \\b: This means “boundary,\\w+ This denotes a word character, i.e., [a-zA-Z_0–9]\n",
    "\\W+ This means a non-word character,\\1 This matches whatever was matched in the previous group of parentheses,\n",
    "which in our case is the (\\w+) and used re.sub function used to replace the repeated occurrences with a \n",
    "single occurrence of the word. The replacement pattern r'\\1' refers to the content captured by the first \n",
    "capturing group in the regular expression\n"
   ]
  },
  {
   "cell_type": "markdown",
   "id": "bbb5bb5f",
   "metadata": {},
   "source": [
    "Question 26-  Write a python program using RegEx to accept string ending with alphanumeric character"
   ]
  },
  {
   "cell_type": "code",
   "execution_count": 74,
   "id": "38967d01",
   "metadata": {},
   "outputs": [
    {
     "name": "stdout",
     "output_type": "stream",
     "text": [
      "The given string is\n",
      "True\n",
      "The given string is\n",
      "False\n"
     ]
    }
   ],
   "source": [
    "def ending_alphanumeric(string):\n",
    "    print(\"The given string is\")\n",
    "    print(bool(re.match(r'^[a-zA-Z0-9]+$', string)))\n",
    "    \n",
    "ending_alphanumeric('mainuddin123')\n",
    "ending_alphanumeric('shaik mainuddin')"
   ]
  },
  {
   "cell_type": "markdown",
   "id": "d0a0fcbd",
   "metadata": {},
   "source": [
    "Explanation-->i have created ending_alphanumeric() function to reuse my code.the regular expression r'^[a-zA-Z0-9]+$' helps to to accept string ending with alphanumeric character"
   ]
  },
  {
   "cell_type": "markdown",
   "id": "f861c54f",
   "metadata": {},
   "source": [
    "Question 27-Write a python program using RegEx to extract the hashtags.\n",
    "Sample Text:  \"\"\"RT @kapil_kausik: #Doltiwal I mean #xyzabc is \"hurt\"\n",
    "by #Demonetization as the same has rendered USELESS <ed><U+00A0><U+00BD><ed><U+00B1><U+0089> \"acquired funds\" No wo\"\"\"\n",
    "Expected Output: ['#Doltiwal', '#xyzabc', '#Demonetization']"
   ]
  },
  {
   "cell_type": "code",
   "execution_count": null,
   "id": "5fb64565",
   "metadata": {
    "scrolled": true
   },
   "outputs": [],
   "source": [
    "\n",
    "def extract_hashtags(string):\n",
    "    hashtags = re.findall(r'#\\w+', string)\n",
    "    return hashtags\n",
    "      \n",
    "text='\"\"\"RT @kapil_kausik: #Doltiwal I mean #xyzabc is \"hurt\" by #Demonetization as the same has rendered USELESS <ed><U+00A0><U+00BD><ed><U+00B1><U+0089> \"acquired funds\" No wo\"\"\"'\n",
    "output=extract_hashtags(text)\n",
    "print(output)\n",
    "\n",
    "  "
   ]
  },
  {
   "cell_type": "markdown",
   "id": "f316dcfe",
   "metadata": {},
   "source": [
    "Explanation-->i have created extract_hashtags() function to reuse my code.The extract_hashtags function uses the re.findall method to find all occurrences of hashtags in the given text.\n",
    "The regular expression r'#\\w+' matches a hashtag followed by one or more word characters."
   ]
  },
  {
   "cell_type": "markdown",
   "id": "5fcda068",
   "metadata": {},
   "source": [
    "Question 28- Write a python program using RegEx to remove <U+..> like symbols\n",
    "Check the below sample text, there are strange symbols something of the sort <U+..> \n",
    "all over the place. You need to come up with a general Regex expression that will cover all such symbols.\n",
    "Sample Text: \"@Jags123456 Bharat band on \n",
    "28??<ed><U+00A0><U+00BD><ed><U+00B8><U+0082>Those who  are protesting #demonetization  are all different party leaders\"\n",
    "Expected Output: @Jags123456 Bharat band on 28??<ed><ed>Those who  are protesting #demonetization  \n",
    "are all different party leaders\n"
   ]
  },
  {
   "cell_type": "code",
   "execution_count": null,
   "id": "fb006702",
   "metadata": {},
   "outputs": [],
   "source": [
    "text='@Jags123456 Bharat band on 28??<ed><U+00A0><U+00BD><ed><U+00B8><U+0082>Those who  are protesting #demonetization  are all different party leaders'\n",
    "def remove_symbols(string):\n",
    "    pattern= r'<U\\+\\w{4}>'\n",
    "    Result=re.sub(pattern,'',string)\n",
    "    return Result\n",
    "output=remove_symbols(text)\n",
    "print(output)\n"
   ]
  },
  {
   "cell_type": "markdown",
   "id": "33dfd6a1",
   "metadata": {},
   "source": [
    "Explanation-->i have created remove_symbols() function to reuse my code.The regular expression pattern r\"<U\\+\\w{4}>\" matches all <U+..> with four characters indide the symbols in the input text and replaces \n",
    "them with an empty string, effectively removing them from the text"
   ]
  },
  {
   "cell_type": "markdown",
   "id": "5ade538e",
   "metadata": {},
   "source": [
    "Question 29- Write a python program to extract dates from the text stored in the text file.\n",
    "Sample Text: Ron was born on 12-09-1992 and he was admitted to school 15-12-1999.\n",
    "Note- Store this sample text in the file and then extract dates."
   ]
  },
  {
   "cell_type": "code",
   "execution_count": 75,
   "id": "0df7be72",
   "metadata": {},
   "outputs": [
    {
     "name": "stdout",
     "output_type": "stream",
     "text": [
      "['12-09-1992', '15-12-1999']\n"
     ]
    }
   ],
   "source": [
    "# Open the text file\n",
    "with open('filename.txt', 'r') as file:\n",
    "    text = file.read()\n",
    "def extract_date(string):\n",
    "    pattern = r'\\d{2}-\\d{2}-\\d{4}'\n",
    "    dates = re.findall(pattern, text)\n",
    "    return dates\n",
    "\n",
    "output=extract_date(text)\n",
    "print(output)\n",
    "    \n",
    " "
   ]
  },
  {
   "cell_type": "markdown",
   "id": "b055567c",
   "metadata": {},
   "source": [
    "Explanation-->i have created extract_date() function to reuse my code.In this program, we first open the text file using the open() function and read its contents using the read() method. \n",
    "Then, we define a regular expression pattern r'\\d{2}-\\d{2}-\\d{4}' to match dates in the format dd-mm-yyyy. \n",
    "The pattern consists of \\d{2} to match two digits for the day and month, and \\d{4} to match four digits for the year.Used re.findall to find all the matches"
   ]
  },
  {
   "cell_type": "markdown",
   "id": "10186e14",
   "metadata": {},
   "source": [
    "Question 30- Create a function in python to remove all words from a string of length between 2 and 4.\n",
    "The use of the re.compile() method is mandatory.\n",
    "Sample Text: \"The following example creates an ArrayList with a capacity of 50 elements. \n",
    "4 elements are then added to the ArrayList and the ArrayList is trimmed accordingly.\"\n",
    "Expected Output:  following example creates ArrayList a capacity elements. 4 elements added ArrayList \n",
    "ArrayList trimmed accordingly."
   ]
  },
  {
   "cell_type": "code",
   "execution_count": 76,
   "id": "14282f09",
   "metadata": {},
   "outputs": [
    {
     "name": "stdout",
     "output_type": "stream",
     "text": [
      " following example creates  ArrayList  a capacity   elements. 4 elements   added   ArrayList   ArrayList  trimmed accordingly.\n"
     ]
    }
   ],
   "source": [
    "text='The following example creates an ArrayList with a capacity of 50 elements. 4 elements are then added to the ArrayList and the ArrayList is trimmed accordingly.'\n",
    "def words_len_two_four(string):\n",
    "    pattern=r'\\b\\w{2,4}\\b'\n",
    "    words=re.compile(pattern)\n",
    "    Result=words.sub('',string)\n",
    "    return Result\n",
    "output=words_len_two_four(text)\n",
    "print(output)\n"
   ]
  },
  {
   "cell_type": "markdown",
   "id": "536427ec",
   "metadata": {},
   "source": [
    "Explanation-->i have created words_len_two_four() function to reuse my code.i have used r'\\b\\w{2,4}\\b', where \\b represents a word boundary and \\w{2,4} matches words of length between 2 and 4.\n",
    "and used  re.sub() method to replace all occurrences of the pattern with an empty string."
   ]
  }
 ],
 "metadata": {
  "kernelspec": {
   "display_name": "Python 3 (ipykernel)",
   "language": "python",
   "name": "python3"
  },
  "language_info": {
   "codemirror_mode": {
    "name": "ipython",
    "version": 3
   },
   "file_extension": ".py",
   "mimetype": "text/x-python",
   "name": "python",
   "nbconvert_exporter": "python",
   "pygments_lexer": "ipython3",
   "version": "3.11.5"
  }
 },
 "nbformat": 4,
 "nbformat_minor": 5
}
