{
 "cells": [
  {
   "cell_type": "markdown",
   "id": "be1149b6",
   "metadata": {},
   "source": [
    "# Q11 to Q15 are programming questions. "
   ]
  },
  {
   "cell_type": "markdown",
   "id": "ab087c13",
   "metadata": {},
   "source": [
    "11. Write a python program to find the factorial of a number."
   ]
  },
  {
   "cell_type": "markdown",
   "id": "e5798156",
   "metadata": {},
   "source": [
    "To find the Python factorial of a number, the number is multiplied with all the integers that lie between 1 and the number itself. Mathematically, it is represented by “!”. Thus, for example, 5! will be 5 x 4 x 3 x 2 x 1, that is 120. Factorial for negative numbers is not defined"
   ]
  },
  {
   "cell_type": "code",
   "execution_count": 15,
   "id": "6412c1ae",
   "metadata": {},
   "outputs": [
    {
     "data": {
      "text/plain": [
       "120"
      ]
     },
     "execution_count": 15,
     "metadata": {},
     "output_type": "execute_result"
    }
   ],
   "source": [
    "def factorial(n):\n",
    "    \"\"\"Calculates the factorial of a non-negative integer n.\"\"\"\n",
    "    if n < 0:\n",
    "        return \"Factorial is not defined for negative numbers.\"\n",
    "    elif n == 0:\n",
    "        return 1\n",
    "    else:\n",
    "        fact = 1\n",
    "        for i in range(1, n + 1):\n",
    "            fact *= i\n",
    "        return fact\n",
    "\n",
    "factorial(5)\n"
   ]
  },
  {
   "cell_type": "markdown",
   "id": "35206f7a",
   "metadata": {},
   "source": [
    "12. Write a python program to find whether a number is prime or composite."
   ]
  },
  {
   "cell_type": "markdown",
   "id": "4f71c0b8",
   "metadata": {},
   "source": [
    "What are prime and composite numbers with examples?\n",
    "Prime numbers can be written as the product of two numbers. Composite numbers can be written as the product of two or more than two numbers. For example, 2,3,5,71,11… are prime numbers as they have only two factors i.e. one and itself. For example, 4,6,8,10,12… are composite numbers as they have more than two factors."
   ]
  },
  {
   "cell_type": "code",
   "execution_count": 18,
   "id": "0499f62f",
   "metadata": {},
   "outputs": [
    {
     "name": "stdout",
     "output_type": "stream",
     "text": [
      "6 is NOT a PRIME number, it is a COMPOSITE number\n"
     ]
    }
   ],
   "source": [
    "num = 6\n",
    "if num > 1:\n",
    "    for i in range(2, num):\n",
    "        if (num % i) == 0:\n",
    "            print(num, \"is NOT a PRIME number, it is a COMPOSITE number\")\n",
    "            break\n",
    "    else:\n",
    "        print(num, \"is a PRIME number\")\n",
    "elif num == 0 or 1:\n",
    "    print(num, \"is a neither Prime NOR Composite number\")\n",
    "else:\n",
    "    print()"
   ]
  },
  {
   "cell_type": "markdown",
   "id": "fdbce970",
   "metadata": {},
   "source": [
    "13. Write a python program to check whether a given string is palindrome or not"
   ]
  },
  {
   "cell_type": "markdown",
   "id": "2c17d0bb",
   "metadata": {},
   "source": [
    "Example: KAYAK. Output: Yes, a palindrome string. Example: 1234321. Output: Yes, a palindrome number. Therefore, a palindrome in Python is any word, number, sentence, or string that reads the same backward or forward"
   ]
  },
  {
   "cell_type": "code",
   "execution_count": 23,
   "id": "e945f947",
   "metadata": {},
   "outputs": [
    {
     "name": "stdout",
     "output_type": "stream",
     "text": [
      "KAYAK is Palindrome\n"
     ]
    }
   ],
   "source": [
    "def palindrome(text):\n",
    "    rev = text[::-1]\n",
    "    if text == rev:\n",
    "         print(rev + \" is Palindrome\")\n",
    "    else:\n",
    "         print(rev + \" is not Palindrome\")\n",
    "   \n",
    "\n",
    "\n",
    "palindrome('KAYAK')"
   ]
  },
  {
   "cell_type": "markdown",
   "id": "963f6a11",
   "metadata": {},
   "source": [
    "14. Write a Python program to get the third side of right-angled triangle from two given sides."
   ]
  },
  {
   "cell_type": "markdown",
   "id": "ac0b8c65",
   "metadata": {},
   "source": [
    "What is a Triangle?\n",
    "A triangle is a regular polygon, with three sides and the sum of any two sides is always greater than the third side. This is a unique property of a triangle. In other words, it can be said that any closed figure with three sides and the sum of all the three internal angles is equal to 180°\n",
    "Right angle triangle: When the angle between a pair of sides is equal to 90 degrees it is called a right-angle triangle."
   ]
  },
  {
   "cell_type": "code",
   "execution_count": 26,
   "id": "9b633629",
   "metadata": {},
   "outputs": [
    {
     "name": "stdout",
     "output_type": "stream",
     "text": [
      "The length of the hypotenuse is: 64.03124237432849\n"
     ]
    }
   ],
   "source": [
    "def calculate_hypotenuse(side1, side2):\n",
    "    # Calculate the square of each side\n",
    "    side1_squared = side1**2\n",
    "    side2_squared = side2**2\n",
    "\n",
    "    # Calculate the square of the hypotenuse using the Pythagorean theorem\n",
    "    hypotenuse_squared = side1_squared + side2_squared\n",
    "\n",
    "    # Calculate the length of the hypotenuse by taking the square root\n",
    "    hypotenuse = hypotenuse_squared**0.5\n",
    "\n",
    "    return hypotenuse\n",
    "\n",
    "\n",
    "\n",
    "# Calculate the length of the hypotenuse\n",
    "hypotenuse = calculate_hypotenuse(40, 50)\n",
    "\n",
    "# Output: Display the result\n",
    "print(f\"The length of the hypotenuse is: {hypotenuse}\")"
   ]
  },
  {
   "cell_type": "markdown",
   "id": "fb7f2b50",
   "metadata": {},
   "source": [
    "15. Write a python program to print the frequency of each of the characters present in a given string"
   ]
  },
  {
   "cell_type": "code",
   "execution_count": 32,
   "id": "8be37ab2",
   "metadata": {},
   "outputs": [
    {
     "name": "stdout",
     "output_type": "stream",
     "text": [
      "{'s': 1, 'h': 1, 'a': 2, 'i': 3, 'k': 1, ' ': 1, 'm': 1, 'n': 2, 'u': 1, 'd': 2}\n"
     ]
    }
   ],
   "source": [
    "def frequency_chars(str):\n",
    "    dict = {}\n",
    "    # create dictionary to store key value pair\n",
    "    for i in str:\n",
    "        if i in dict:\n",
    "            dict[i] += 1\n",
    "             # if i already appears as key in dict, increment the count\n",
    "        else:dict[i] = 1\n",
    "            # else i appears for the first time, add to dict\n",
    "    print(dict)\n",
    "            \n",
    "            \n",
    "frequency_chars('shaik mainuddin')        \n",
    "   "
   ]
  },
  {
   "cell_type": "code",
   "execution_count": null,
   "id": "f2a5680f",
   "metadata": {},
   "outputs": [],
   "source": []
  }
 ],
 "metadata": {
  "kernelspec": {
   "display_name": "Python 3 (ipykernel)",
   "language": "python",
   "name": "python3"
  },
  "language_info": {
   "codemirror_mode": {
    "name": "ipython",
    "version": 3
   },
   "file_extension": ".py",
   "mimetype": "text/x-python",
   "name": "python",
   "nbconvert_exporter": "python",
   "pygments_lexer": "ipython3",
   "version": "3.11.5"
  }
 },
 "nbformat": 4,
 "nbformat_minor": 5
}
